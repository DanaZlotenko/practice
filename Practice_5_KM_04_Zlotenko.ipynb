{
  "nbformat": 4,
  "nbformat_minor": 0,
  "metadata": {
    "colab": {
      "name": "Practice_5_KM_04_.ipynb",
      "provenance": [],
      "collapsed_sections": []
    },
    "kernelspec": {
      "name": "Python 3.8.6 64-bit",
      "display_name": "Python 3.8.6 64-bit",
      "metadata": {
        "interpreter": {
          "hash": "c326151bcf2cd0c985f53f24faac51633a2ebf03d033a2040f0994febf8b53db"
        }
      }
    }
  },
  "cells": [
    {
      "cell_type": "markdown",
      "metadata": {
        "id": "FMqboNwO4rVs"
      },
      "source": [
        "# **Курс \"Програмування на мові Python\"**\n",
        "\n",
        "##### Викладачі:\n",
        "##### Борисенко Павло Борисович\n",
        "##### Щьоголєв Максим Олегович\n"
      ]
    },
    {
      "cell_type": "markdown",
      "metadata": {
        "id": "A2T6MigL5Z06"
      },
      "source": [
        "## **Практичне зайняття №5**\n",
        "### Тема: \"Робота з кортежами, множинами та словниками\""
      ]
    },
    {
      "cell_type": "markdown",
      "metadata": {
        "id": "4AV5CN7N4xja"
      },
      "source": [
        "### **Завдання 1 (1,5 бали)**\n",
        "\n",
        "Напишіть програму, яка визначала б, чи можна з літер однієї фрази скласти іншу фразу. Наприклад:\n",
        "\n",
        "\"William Shakespeare\" -> \"A small spark\"\n",
        "\n",
        "Перша фраза містить 11 унікальних літер (хоча деякі повторюються): a, e, h, i, k, l, m, p, r, s та w. Друга фраза містить 7 унікальних літер: a, k, l, m, p, r та s. Кожна з літер другої фрази зустрічається принаймні один раз у першій фразі.\n",
        "\n",
        "1. Обидві фрази повинні вводитись користувачем з клавіатури.\n",
        "\n",
        "2. Скористайтесь властивістю множин у мові програмування Python для виділення колекції унікальних літер.\n",
        "\n",
        "3. У множину не повинні потрапити пробіли, розділові знаки та інші символи, що не є літерами (скористайтесь методом **isalpha()**). Також усі літери мають бути переведені в нижній або верхній регістр (скористайтесь методами **lower()** або **upper()**).\n",
        "\n",
        "4. Зверніть увагу на те, що літери як в першій, так і вдругій фразі можуть повторюватись. Однак множина унікальних літер другої фрази повинна бути підмножиною множини унікальних літер першої фрази.\n",
        "\n",
        "5. У складі змістовного повідомлення програма повинна виводити множину літер першої фрази, множину літер другої фрази, а також змістовне повідомлення про те, чи можна скласти з літер першої фрази другу фразу."
      ]
    },
    {
      "cell_type": "code",
      "metadata": {
        "id": "9Mesp1jV4xjb"
      },
      "source": [
        "phrase1 = str(input(\"Enter first phrase: \"))\n",
        "phrase2 = str(input(\"Enter second phrase: \"))\n",
        "print(\"First phrase is: \", phrase1)\n",
        "print(\"Second phrase is: \", phrase2)\n",
        "phrase1 = phrase1.lower()\n",
        "phrase2 = phrase2.lower()\n",
        "result1 = list(''.join(c for c in phrase1 if c.isalpha()))\n",
        "result2 = list(''.join(c for c in phrase2 if c.isalpha()))\n",
        "result1 = set(result1)\n",
        "result2 = set(result2)\n",
        "if (result1 >= result2) == True:\n",
        "    print(\"You can make a second phrase from the letters of the first phrase\")\n",
        "else:\n",
        "    print(\"You can't make a second phrase from the letters of the first phrase\")"
      ],
      "execution_count": 18,
      "outputs": [
        {
          "output_type": "stream",
          "name": "stdout",
          "text": [
            "First phrase is:  Dana\nSecond phrase is:  Ann\nYou can make a second phrase from the letters of the first phrase\n"
          ]
        }
      ]
    },
    {
      "cell_type": "markdown",
      "metadata": {
        "id": "y7pQFLvSCkym"
      },
      "source": [
        "### **Завдання 2 (1,5 бали)**\n",
        "\n",
        "У Канаді поштові індекси мають специфічну форму. Вони складаються з трьох символів. Перший символ вказує на провінцію. Другий символ вказує на те, у міській чи у сільській місцевості знаходиться адресат. Якщо у сільській місцевості - це 0. Якщо у міській - будь-яка інша цифра. Провінція позначається великою латинською літерою. Повний перелік провінцій на літер, що їм відповідають, подано у таблиці.\n",
        "\n",
        "Провінція | Перший символ поштового індекса\n",
        "--- | ---\n",
        "Newfoundland | A\n",
        "Nova Scotia | B\n",
        "Prince Edward Island | C\n",
        "New Brunswick | E\n",
        "Quebec | G, H and J\n",
        "Ontario | K, L, M, N and P\n",
        "Manitoba | R\n",
        "Saskatchewan | S\n",
        "Alberta | T\n",
        "British Columbia | V\n",
        "Nunavut | X\n",
        "Northwest Territories | X\n",
        "Yukon | Y\n",
        "\n",
        "Напишіть програму, яка зчитує поштовий індекс, введений користувачем, та виводить у складі змістовного повідомлення провінцію адресата та інформацію про те, у міській чи у сільській місцевості він знаходиться. Наприклад, якщо користувач вводить T2N, програма повинна визначити, що адресат знаходиться у міській місцевості провінції Альберта. Якщо він вводить X0A, адресат знаходиться у сільській місцевості провінції Нанавут або Північних Територій (зверніть увагу на те, що літера X повторюється для двох провінцій). Третя літера для нас неважлива. Зауважте, що літери D, F, I, O, Q, U, W, та Z не позначають жодної з провінцій Канади.\n",
        "\n",
        "1. Скористайтесь словником для збереження усіх провінцій та літер, що їм відповідають.\n",
        "\n",
        "2. Користувач повинен ввести рівно 3 символи. Перший і останній символи мають бути літерами, другий - цифрою. Для перевірки скористайтесь методами **isalpha()** та **isdigit()**. Якщо користувач введе не 3 символи, а більше чи менше, або ж послідовність літер та цифр не буде співпадати з шаблоном, програма має вивести повідомлення про помилку.\n",
        "\n",
        "3. Програма повинна приймати літери як верхнього, так і нижнього регістрів. Однак виводити - лише у верхньому регістрі (скористайтесь методами **lower()** або **upper()**)."
      ]
    },
    {
      "cell_type": "code",
      "metadata": {
        "id": "EVY800vg4xjg"
      },
      "source": [
        "index = {\n",
        "    'A':'Newfoundland',\n",
        "    'B': 'Nova Scotia',\n",
        "    'C':'Prince Edward Island',\n",
        "    'E': 'New Brunswick',\n",
        "    'G': 'Quebec',\n",
        "    'H': 'Quebec',\n",
        "    'J': 'Quebec',\n",
        "    'K': 'Ontario',\n",
        "    'L': 'Ontario',\n",
        "    'M': 'Ontario',\n",
        "    'N': 'Ontario',\n",
        "    'P': 'Ontario',\n",
        "    'R': 'Manitoba',\n",
        "    'S': 'Saskatchewan',\n",
        "    'T': 'Alberta',\n",
        "    'V': 'British Columbia',\n",
        "    'T': 'Alberta',\n",
        "    'V': 'British Columbia',\n",
        "    'X': ('Nunavut','Northwest Territories'),\n",
        "    'Y': 'Yukon'\n",
        "}\n",
        "a = str\n",
        "users_index = str(input())\n",
        "users_index = users_index.upper()\n",
        "print(\"User's index is:\", users_index)\n",
        "if len(users_index) != 3:\n",
        "    print(\"Error. Please enter letter, number and another letter\")\n",
        "users_index = list(users_index)\n",
        "if users_index[0].isalpha() == False:\n",
        "    print(\"Error. It must be a letter in 1st place\")\n",
        "if users_index[1].isdigit() == False:\n",
        "    print(\"Error. It must be a number in 2nd place\")\n",
        "if users_index[2].isalpha() == False:\n",
        "    print(\"Error. It must be a letter in 3rd place\")\n",
        "if users_index[1] == '0':\n",
        "    a = \"countryside\"\n",
        "else:\n",
        "    a = \"urban area\"\n",
        "if users_index[0] == \"X\":\n",
        "    print(\"User is in Nunavut or Northwest Territories\", \",\", a)\n",
        "else:\n",
        "    print(\"User is in\", index.get(users_index[0], \"undefined area\"),\",\", a)\n"
      ],
      "execution_count": 58,
      "outputs": [
        {
          "output_type": "stream",
          "name": "stdout",
          "text": [
            "User's index is: A8L\nUser is in Newfoundland , urban area\n"
          ]
        }
      ]
    },
    {
      "cell_type": "code",
      "execution_count": null,
      "metadata": {},
      "outputs": [],
      "source": []
    }
  ]
}