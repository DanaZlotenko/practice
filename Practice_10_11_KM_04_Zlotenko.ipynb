{
  "nbformat": 4,
  "nbformat_minor": 0,
  "metadata": {
    "colab": {
      "name": "Practice_10-11_KM_01_.ipynb",
      "provenance": [],
      "collapsed_sections": []
    },
    "kernelspec": {
      "name": "python3",
      "display_name": "Python 3"
    }
  },
  "cells": [
    {
      "cell_type": "markdown",
      "metadata": {
        "id": "FMqboNwO4rVs"
      },
      "source": [
        "# **Курс \"Програмування на мові Python\"**\n",
        "\n",
        "##### Викладачі:\n",
        "##### Борисенко Павло Борисович\n",
        "##### Щьоголєв Максим Олегович\n"
      ]
    },
    {
      "cell_type": "markdown",
      "metadata": {
        "id": "A2T6MigL5Z06"
      },
      "source": [
        "## **Практичні зайняття №10-11**\n",
        "\n",
        "### Тема: \"Ітератори та генератори. Декоратори\""
      ]
    },
    {
      "cell_type": "markdown",
      "metadata": {
        "id": "cfCdgK2zXm7e"
      },
      "source": [
        "### **Завдання 1 (2 бали)**\n",
        "\n",
        "Розрахуйте коефієнти розкладу біному Ньютона за допомогою генератора (https://uk.wikipedia.org/wiki/%D0%91%D1%96%D0%BD%D0%BE%D0%BC_%D0%9D%D1%8C%D1%8E%D1%82%D0%BE%D0%BD%D0%B0).\n",
        "\n",
        "1. Степінь многочлена користувач має вводити з клавіатури (невід'ємне ціле число).\n",
        "\n",
        "2. Програма має підраховувати біноміальні коефіцієнти для біномів усіх степенів, починаючи від 0 і закінчуючи тим, який ввів користувач.\n",
        "\n",
        "3. Коефіцієнти мають виводитись у вигляді трикутника Паскаля.\n",
        "\n",
        "Наприклад, якщо користувач введе число 5, програма має вивести результат:\n",
        "\n",
        "1\n",
        "\n",
        "1 1\n",
        "\n",
        "1 2 1\n",
        "\n",
        "1 3 3 1\n",
        "\n",
        "1 4 6 4 1\n",
        "\n",
        "1 5 10 10 5 1\n"
      ]
    },
    {
      "cell_type": "code",
      "metadata": {
        "id": "Bku8v9CjE_Qc"
      },
      "source": [
        "def b_coefficient(n):\n",
        "    if not isinstance(n, int):\n",
        "        raise TypeError('n must be an integer')\n",
        "    if n < 0:\n",
        "        raise ValueError('n must be >= 0')\n",
        "\n",
        "    def new_row(row):\n",
        "        previous = 0\n",
        "        for x in row:\n",
        "            yield previous + x\n",
        "            previous = x\n",
        "        yield 1\n",
        "\n",
        "    prev_row = [1]\n",
        "    yield prev_row\n",
        "    for x in range(n):\n",
        "        prev_row = list(new_row(prev_row))\n",
        "        yield prev_row\n",
        "\n",
        "        \n",
        "n = int(input())\n",
        "for i in (list(b_coefficient(n))):\n",
        "        print (' '.join(str(x) for x in i))"
      ],
      "execution_count": 12,
      "outputs": [
        {
          "output_type": "stream",
          "name": "stdout",
          "text": [
            "1\n1 1\n1 2 1\n1 3 3 1\n1 4 6 4 1\n1 5 10 10 5 1\n"
          ]
        }
      ]
    },
    {
      "cell_type": "markdown",
      "metadata": {
        "id": "oqXwIz3iuPRe"
      },
      "source": [
        "### **Завдання 2 (4 бали)**\n",
        "\n",
        "Більшість друкованих книг (особливо це стосується книг у твердій палітурці) складаються із зошитів. Припустимо, що в друкарні текст друкується на листах паперу удвічі більших за звичайний книжковий формат. Потім ці листи складаються вдвічі, з них формуються зошити, які потім зшиваються у блок. Зшиті зошити зазвичай складаються з 8, 12 або 16 листів (відповідно 16, 24 або 32 сторінок) кожен.\n",
        "\n",
        "Розглянемо конкретний приклад. \n",
        "\n",
        "Припустимо, що кожен зшитий зошит нашої книги складається з 8 листів (16 сторінок). Якщо уявити великі листи, з яких потім складаються зошити, то на кожному таком листі буде по 4 сторінки книги. У нашій книзі таких великих листів буде 4. Розглянемо перший лист. З одного боку на ньому будуть надруковані сторінки 16 та 1, з іншого - 2 та 15. На другому листі з одного боку будуть надруковані сторінки 14 та 3, з іншого - 4 та 13.\n",
        "\n",
        "**Написати програму, яка визначатиме послідовність сторінок, що будуть надруковані на кожному великому листі.**\n",
        "\n",
        "1. Користувач має вводити з клавіатури три значення: кількість сторінок у книзі (не більше 1280), кількість сторінок у кожному зошиті цієї книги (потрібно буде обрати один з трьох варіантів: 16, 24 або 32) та параметр 0 або 1 (пояснення у п. 5).\n",
        "\n",
        "2. Зверніть увагу на те, що загальна кількість сторінок у книзі має бути кратною кількості сторінок у зошиті. Якщо користувач введе число, що не задовольняє цій умові, програма повинна припинити роботу або запропонувати користувачеві ввесте інше значення. Зауважте також, що 1280 не ділиться на 24.\n",
        "\n",
        "3. Зверніть увагу на те, що на великих листах поворот аркуша відбувається за коротким краєм. Отже, якщо з одного боку аркуша надруковано сторінки 16 та 1, то з іншого 2 та 15 (а не 15, 2), якщо дивитись зліва направо.\n",
        "\n",
        "4. Функція, яка визначатиме послідовність книжкових сторінок, має виводити на екран рядок за рядком номери сторінок кожного зошита, а також кількість зошитів у книзі.\n",
        "\n",
        "5. Створіть функцію-декоратор, яка прийматиме на вхід параметр 0 або 1, конвертований у False або True відповідно, та навісьте його на попередню функцію. Якщо параметр дорівнює False, додаткові функції декоратора не повинні виконуватись, тобто має виконатись лише функція з п. 4. Декоратор повинен створювати список усіх сторінок у потрібній послідовності, причому номери сторінок кожного зошита мають зберігатись в окремому вкладеному списку. Для 16-сторінкового зошита список повинен мати вигляд:\n",
        "\n",
        "`[[16, 1, 2, 15, 14, 3, 4, 13, ..., 10, 7, 8, 9], [32, 17, 18, 31, ...], ... ]`\n",
        "\n",
        "**Бонусне завдання (за бажанням)**\n",
        "\n",
        "6. Замість функції з п. 4 створіть генератор, який буде визначати послідовність книжкових сторінок для кожного зошита. Ці рядки можна потім вивести або у циклі, або за допомогою функції next(). Функція-декоратор має працювати з цим генератором так само, як і зі звичайною функцією."
      ]
    },
    {
      "cell_type": "code",
      "metadata": {
        "id": "yiRr2CqMWxLA"
      },
      "source": [
        "import array\n",
        "\n",
        "global notebook_pages\n",
        "\n",
        "def decor(func1):\n",
        "    def inner(pages, notebook_pages, parameter):\n",
        "        if parameter == 1:\n",
        "            print(\"Function with decorator:\\n\", func1(pages, notebook_pages))\n",
        "        else:\n",
        "            print(\"Function without decorator: \")\n",
        "            for x in list(func1(pages, notebook_pages)):\n",
        "                print(\", \".join(map(str, x)))\n",
        "    return inner\n",
        "\n",
        "@decor\n",
        "def func1(pages,notebook_pages):\n",
        "    notebooks = int(pages/notebook_pages)\n",
        "    c = []\n",
        "    for i in range(notebooks):\n",
        "        c.append(order(a[i]))\n",
        "    return c\n",
        "\n",
        "\n",
        "def section(lst, section_size):\n",
        "    for i in range(0, len(lst), section_size):\n",
        "        yield lst[i:i + section_size]\n",
        "\n",
        "\n",
        "def order(list1):\n",
        "    a = []\n",
        "    k = notebook_pages\n",
        "    while k > 0:\n",
        "        a.append(max(list1))\n",
        "        a.append(min(list1))\n",
        "        list1.remove(max(list1))\n",
        "        list1.remove(min(list1))\n",
        "        a.append(min(list1))\n",
        "        a.append(max(list1))\n",
        "        list1.remove(max(list1))\n",
        "        list1.remove(min(list1))\n",
        "        k -= 4\n",
        "    return a\n",
        "\n",
        "while True:\n",
        "    try:\n",
        "        pages = int(input(\"Enter number of pages: \"))\n",
        "        if (pages <= 0) or (pages > 1280):\n",
        "            print(\"The number of pages must be greater than 0 and less than 1280\")\n",
        "            continue\n",
        "        if (pages % 16 != 0) and (pages % 24 != 0) and (pages % 32 != 0):\n",
        "            print(\"The number of pages must be divisible by 16, 24 or 32.\")\n",
        "            continue\n",
        "        break\n",
        "    except ValueError:\n",
        "        print(\"Incorrect input. Try again.\")\n",
        "\n",
        "while True:\n",
        "    try:\n",
        "        notebook_pages = int(input(\"Enter number of pages in notebook: \"))\n",
        "        if (notebook_pages != 16) and (notebook_pages != 24) and (notebook_pages != 32):\n",
        "            print(\"The number of pages in notebook must be 16, 24 or 32.\")\n",
        "            continue\n",
        "        if pages % notebook_pages != 0:\n",
        "            print(\"The number of pages in book must be divisible by the number of pages in notebook\")\n",
        "            continue\n",
        "        break\n",
        "    except ValueError:\n",
        "        print(\"Incorrect input. Try again.\")\n",
        "\n",
        "while True:\n",
        "    try:\n",
        "        parameter = int(input(\"Enter parameter 0 or 1: \"))\n",
        "        if (parameter != 0) and (parameter != 1):\n",
        "            print(\"Parameter must be 0 or 1.\")\n",
        "            continue\n",
        "        break\n",
        "    except ValueError:\n",
        "        print(\"Incorrect input. Try again.\")\n",
        "\n",
        "list1 = list(range(1, pages+1))\n",
        "a = list(section(list1, notebook_pages))\n",
        "print(func1(pages, notebook_pages, parameter))"
      ],
      "execution_count": 13,
      "outputs": [
        {
          "output_type": "stream",
          "name": "stdout",
          "text": [
            "Function with decorator:\n [[24, 1, 2, 23, 22, 3, 4, 21, 20, 5, 6, 19, 18, 7, 8, 17, 16, 9, 10, 15, 14, 11, 12, 13], [48, 25, 26, 47, 46, 27, 28, 45, 44, 29, 30, 43, 42, 31, 32, 41, 40, 33, 34, 39, 38, 35, 36, 37], [72, 49, 50, 71, 70, 51, 52, 69, 68, 53, 54, 67, 66, 55, 56, 65, 64, 57, 58, 63, 62, 59, 60, 61]]\nNone\n"
          ]
        }
      ]
    },
    {
      "cell_type": "code",
      "execution_count": null,
      "metadata": {},
      "outputs": [],
      "source": []
    }
  ]
}