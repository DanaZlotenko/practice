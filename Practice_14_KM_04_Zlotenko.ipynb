{
  "nbformat": 4,
  "nbformat_minor": 0,
  "metadata": {
    "colab": {
      "name": "Practice_14_KM_01.ipynb",
      "provenance": [],
      "collapsed_sections": []
    },
    "kernelspec": {
      "name": "python3",
      "display_name": "Python 3",
      "language": "python"
    }
  },
  "cells": [
    {
      "cell_type": "markdown",
      "metadata": {
        "id": "FMqboNwO4rVs"
      },
      "source": [
        "# **Курс \"Програмування на мові Python\"**\n",
        "\n",
        "##### Викладачі:\n",
        "##### Борисенко Павло Борисович\n",
        "##### Щьоголєв Максим Олегович\n"
      ]
    },
    {
      "cell_type": "markdown",
      "metadata": {
        "id": "A2T6MigL5Z06"
      },
      "source": [
        "## **Практичне зайняття №14**\n",
        "\n",
        "### Тема: \"Робота з файлами\""
      ]
    },
    {
      "cell_type": "markdown",
      "metadata": {
        "id": "cfCdgK2zXm7e"
      },
      "source": [
        "### **Завдання 1 (1,5 бали)**\n",
        "\n",
        "У 1939 році друком вийшов роман американського письменика Ернеста Вінсента Райта \"Ґедсбі\". Особливу увагу публіки він здобув через те, що письменник жодного разу не використав у романі літеру \"e\" (роман складається з більше ніж 50,000 слів), яка є найбільш вживаною літерою в англійській мові.\n",
        "\n",
        "Порахуйте кількість входжень кожної літери у текст роману. Виведіть список літер англійського алфавіту, а також інформацію про те, скільки відсотків від усіх літер тексту складає кожна літера алфавіту.\n",
        "\n",
        "Зауваження:\n",
        "\n",
        "1. Програма має ігнорувати будь-які символи, окрім літер.\n",
        "\n",
        "2. Переведіть усі літери у верхній або у нижній регістр.\n",
        "\n",
        "3. Під час виведення відсортуйте літери у порядку зменшення їхнього відсотка. Літера \"e\" має стояти на останньому місці у цьому списку.\n",
        "\n",
        "4. Виведіть перші 5 та останні 5 літер відсортованого списку разом з відсотковими значеннями, що їм відповідають."
      ]
    },
    {
      "cell_type": "code",
      "metadata": {
        "tags": [],
        "id": "u4-fHJJ6U462"
      },
      "source": [
        "import collections\n",
        "import string\n",
        "\n",
        "letters = list(string.ascii_lowercase)\n",
        "\n",
        "with open('gadsby.txt') as f:\n",
        "    lines = [line.lower() for line in f.read()]\n",
        "    new_dic = Counter(i for i in lines if i in letters)\n",
        "    letters_sum = sum(new_dic.values())\n",
        "    for i in new_dic:\n",
        "        new_dic[i] = round(new_dic[i]/letters_sum, 3)\n",
        "    \n",
        "    first_five = collections.Counter(new_dic).most_common(5)\n",
        "    n = 5\n",
        "    last_five = new_dic.most_common()[:-n-1:-1]\n",
        "    last_five.reverse()\n",
        "\n",
        "    for i in first_five:\n",
        "        print(f' {i[0]} is {round(i[1]*100, 3)}% of all letters')\n",
        "    for i in last_five:\n",
        "        print(f' {i[0]} is {round(i[1]*100, 3)}% of all letters')\n",
        "   "
      ],
      "execution_count": 94,
      "outputs": [
        {
          "output_type": "stream",
          "name": "stdout",
          "text": [
            " a is 11.0% of all letters\n o is 10.4% of all letters\n i is 8.8% of all letters\n n is 8.6% of all letters\n t is 8.5% of all letters\n j is 0.2% of all letters\n q is 0.1% of all letters\n z is 0.1% of all letters\n x is 0.1% of all letters\n e is 0.0% of all letters\n"
          ]
        }
      ]
    },
    {
      "cell_type": "markdown",
      "metadata": {
        "id": "A34oz70eU463"
      },
      "source": [
        "### **Завдання 2 (1,5 бали)**\n",
        "\n",
        "Створіть CSV-файл, що буде містити від 5 до 10 пісень (творів) вашого улюбленого музиканта. Назва файлу - ім'я музиканта (композитора) або назва гурту.\n",
        "\n",
        "1. Обов'язково додайте до файлу рядок з назвами двох колонок (Song, Year) або (Composition, Year).\n",
        "\n",
        "2. Після запису файлу роздрукуйте назву файлу та усі наявні у файлі рядки (включно із заголовками).\n",
        "\n",
        "3. Для запису та зчитування рядків скористайтесь функціями csv.DictWriter() та csv.DictReader()."
      ]
    },
    {
      "cell_type": "code",
      "metadata": {
        "id": "MEJIrG1GU463"
      },
      "source": [
        "import csv\n",
        "\n",
        "with open('Дайте танк(!).csv','r+', newline='') as csvfile:\n",
        "    fieldnames = ['Song', 'Year']\n",
        "    writer = csv.DictWriter(csvfile, fieldnames=fieldnames)\n",
        "    writer.writeheader()\n",
        "    writer.writerow({'Song':'Нашел', 'Year': 2011})\n",
        "    writer.writerow({'Song':'Летние вечера', 'Year' : 2012})\n",
        "    writer.writerow({'Song':'Хомилия', 'Year': 2014})\n",
        "    writer.writerow({'Song':'Обиды', 'Year': 2014})\n",
        "    writer.writerow({'Song':'Вуаля', 'Year': 2015})\n",
        "    writer.writerow({'Song':'Вуайерист', 'Year': 2016})\n",
        "    writer.writerow({'Song':'Три четверти', 'Year': 2018})\n",
        "    writer.writerow({'Song':'Я', 'Year': 2019})\n",
        "    writer.writerow({'Song':'Альтернатива', 'Year': 2020})\n",
        "    writer.writerow({'Song':'Лучшее', 'Year': 2020})\n",
        "    reader = csv.DictReader(csvfile)\n",
        "    for heading in reader.fieldnames:\n",
        "        print(heading, end=' ')\n",
        "    for row in reader:\n",
        "        print(row['Song'], row['Year'])\n"
      ],
      "execution_count": 107,
      "outputs": [
        {
          "output_type": "stream",
          "name": "stdout",
          "text": [
            "Song Year Нашел 2011\nЛетние вечера 2012\nХомилия 2014\nОбиды 2014\nВуаля 2015\nВуайерист 2016\nТри четверти 2018\nЯ 2019\nАльтернатива 2020\nЛучшее 2020\nSong Year\nНашел 2011\nЛетние вечера 2012\nХомилия 2014\nОбиды 2014\nВуаля 2015\nВуайерист 2016\nТри четверти 2018\nЯ 2019\nАльтернатива 2020\nЛучшее 2020\nSong Year\nНашел 2011\nЛетние вечера 2012\nХомилия 2014\nОбиды 2014\nВуаля 2015\nВуайерист 2016\nТри четверти 2018\nЯ 2019\nАльтернатива 2020\nЛучшее 2020\n"
          ]
        }
      ]
    },
    {
      "cell_type": "markdown",
      "metadata": {
        "id": "Jb-eSBsWU464"
      },
      "source": [
        "### **Завдання 3 (бонусне, 1 бал)**\n",
        "\n",
        "COCO Dataset - набір фотографій та анотацій до них. Його дуже часто використовують для тренування класифікаторів, призначених для розпізнавання об'єктів та визначення ключових точок на зображеннях.\n",
        "\n",
        "Завантажте файли з описом фотографій COCO Dataset за посиланням: http://images.cocodataset.org/annotations/image_info_test2017.zip\n",
        "\n",
        "1. Відкрийте файл image_info_test-dev2017.json. Інформація про фотографії з бази COCO міститься у полі \"images\". Інформація про категорії, на які розділені всі фотографії, міститься у полі \"categories\".\n",
        "\n",
        "2. Визначте кількість фотографій, інформацію про які можна знайти у цьому файлі (кількість елементів, що відповідають ключу \"images\").\n",
        "\n",
        "3. Визначте кількість наявних категорій (кількість елементів, що відповідають ключу \"categories\").\n",
        "\n",
        "4. Виведіть посилання на фотографію 000000000001.jpg (\"coco_url\"), висоту цієї фотографії (\"height\"), ширину (\"width\") та її ідентифікатор (\"id\").\n",
        "\n",
        "5. Опис структури JSON-файлу для набору фотографій COCO можна знайти за посиланням: https://cocodataset.org/#format-data\n",
        "\n",
        "6. Щоб перевірити правильність результатів, у VS Code встановіть розширення JSON та відкрийте файл image_info_test-dev2017.json. Розширення автоматично визначає кількість елементів у кожному полі."
      ]
    },
    {
      "cell_type": "code",
      "metadata": {
        "id": "74C6WKB_U464"
      },
      "source": [],
      "execution_count": null,
      "outputs": []
    }
  ]
}